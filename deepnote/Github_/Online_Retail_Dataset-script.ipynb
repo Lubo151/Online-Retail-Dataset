{
  "cells": [
    {
      "cell_type": "markdown",
      "metadata": {
        "cell_id": "cf211c790218463cbe684eccd5c498e6",
        "deepnote_cell_type": "markdown"
      },
      "source": "#                                            ONLINE RETAIL dataset\n                                                        Mrinmai Sharma\n                                                           11603290\n                                                Lovely Professional University",
      "block_group": "d14d762211de4c4d8f2a06cc6a61edb2"
    },
    {
      "cell_type": "markdown",
      "metadata": {
        "cell_id": "ae4de8ec665d449aba4a3bd9696da78f",
        "deepnote_cell_type": "markdown"
      },
      "source": "# Libraries used",
      "block_group": "b1f4422e947f4c2eba594b570be3223f"
    },
    {
      "cell_type": "code",
      "metadata": {
        "cell_id": "a893a279affc403485ffaae8d9dd09a5",
        "deepnote_cell_type": "code"
      },
      "source": "import math\nimport datetime as dt\nimport numpy as np\nimport pandas\nimport pandas as pd\nfrom pandas.plotting import scatter_matrix\nimport matplotlib.pyplot as plt\nimport seaborn as sns\nimport missingno as msno\nfrom sklearn import model_selection\nfrom sklearn import metrics\nfrom sklearn.metrics import confusion_matrix\nfrom sklearn.metrics import accuracy_score\nfrom sklearn.metrics import classification_report\nfrom sklearn.preprocessing import scale, StandardScaler, normalize\nfrom sklearn.cluster import KMeans\nfrom sklearn.metrics import silhouette_samples, silhouette_score\nfrom sklearn.svm import SVC",
      "block_group": "296068d816e044aea32849acca1b4251",
      "execution_count": 2,
      "outputs": [],
      "outputs_reference": null,
      "content_dependencies": null
    },
    {
      "cell_type": "markdown",
      "metadata": {
        "cell_id": "d9d80d1b386b4e9e9e0c405d2899adc5",
        "deepnote_cell_type": "markdown"
      },
      "source": "# Load Dataset",
      "block_group": "1004bf2bc128478797d61095265c81a6"
    },
    {
      "cell_type": "code",
      "metadata": {
        "scrolled": false,
        "cell_id": "e5be77399bf240a08fe54b03938909e6",
        "deepnote_cell_type": "code"
      },
      "source": "source=\"OnlineRetail.xlsx\"\ndataset=pd.read_excel(source)\ndataset.head(5)",
      "block_group": "59a71f6329d14f59bfecd1ecfe6dad41",
      "execution_count": 3,
      "outputs": [],
      "outputs_reference": null,
      "content_dependencies": null
    },
    {
      "cell_type": "markdown",
      "metadata": {
        "cell_id": "25eeca83e1f3442bad07dc8aea011ad7",
        "deepnote_cell_type": "markdown"
      },
      "source": "# Data Insight",
      "block_group": "9defae1566cb4693b9c41fa078a651e3"
    },
    {
      "cell_type": "code",
      "metadata": {
        "scrolled": true,
        "cell_id": "d8d85c9a241a48a09b83964273b707bc",
        "deepnote_cell_type": "code"
      },
      "source": "dataset_copy=dataset\ndataset.shape",
      "block_group": "5cdc886131e44dd395842ba059605675",
      "execution_count": 4,
      "outputs": [],
      "outputs_reference": null,
      "content_dependencies": null
    },
    {
      "cell_type": "code",
      "metadata": {
        "scrolled": false,
        "cell_id": "af682da5d5774e3fbfd1413cc7ccd0da",
        "deepnote_cell_type": "code"
      },
      "source": "dataset.info()",
      "block_group": "69086768820c4ab18ba505de77aedd97",
      "execution_count": 5,
      "outputs": [],
      "outputs_reference": null,
      "content_dependencies": null
    },
    {
      "cell_type": "markdown",
      "metadata": {
        "cell_id": "9d280c1fd7014c31ada7fe98928a7043",
        "deepnote_cell_type": "markdown"
      },
      "source": "# Missing data",
      "block_group": "0a453f907e174a52a32cc8ec4a8ea915"
    },
    {
      "cell_type": "code",
      "metadata": {
        "scrolled": true,
        "cell_id": "73e82f47e1ed49e6960e0db12d5d34d7",
        "deepnote_cell_type": "code"
      },
      "source": "msno.matrix(dataset)",
      "block_group": "0802fc6cec4b499e82183cbc6dd95b72",
      "execution_count": 6,
      "outputs": [],
      "outputs_reference": null,
      "content_dependencies": null
    },
    {
      "cell_type": "markdown",
      "metadata": {
        "cell_id": "4ea37e0e10ff4d1c9fd24dca88221dde",
        "deepnote_cell_type": "markdown"
      },
      "source": "# Cleaning data",
      "block_group": "139d0fcf7f884325ac5c8991ec04f9b7"
    },
    {
      "cell_type": "code",
      "metadata": {
        "cell_id": "ad7447a8f92e4757bba038d89ee9ac52",
        "deepnote_cell_type": "code"
      },
      "source": "dataset=dataset.loc[pd.isnull(dataset.CustomerID) == False]",
      "block_group": "d021be1366a54b7ea0491637710b3ce3",
      "execution_count": 7,
      "outputs": [],
      "outputs_reference": null,
      "content_dependencies": null
    },
    {
      "cell_type": "code",
      "metadata": {
        "cell_id": "2798abc86b344db1a0c012c045345632",
        "deepnote_cell_type": "code"
      },
      "source": "dataset.info()",
      "block_group": "ff2d31bf48ce4a778f9f4241ba58c824",
      "execution_count": 8,
      "outputs": [],
      "outputs_reference": null,
      "content_dependencies": null
    },
    {
      "cell_type": "code",
      "metadata": {
        "cell_id": "da1d9b7e294e4ad7af97022757d458a2",
        "deepnote_cell_type": "code"
      },
      "source": "msno.matrix(dataset)",
      "block_group": "36177b5c11674c5db40e3c92e35c7649",
      "execution_count": 9,
      "outputs": [],
      "outputs_reference": null,
      "content_dependencies": null
    },
    {
      "cell_type": "code",
      "metadata": {
        "scrolled": false,
        "cell_id": "da4cc507bb62464a91e07ef1335b942f",
        "deepnote_cell_type": "code"
      },
      "source": "dataset.describe(include='all')",
      "block_group": "837561af05f6439088934fd4db505e62",
      "execution_count": 11,
      "outputs": [],
      "outputs_reference": null,
      "content_dependencies": null
    },
    {
      "cell_type": "code",
      "metadata": {
        "cell_id": "253a309659d945b194222ec9d8b1402c",
        "deepnote_cell_type": "code"
      },
      "source": "#remove canceled orders\ndataset=dataset[dataset['Quantity']>0]",
      "block_group": "c57f5b6820354c9c9f657b0a24db170c",
      "execution_count": 12,
      "outputs": [],
      "outputs_reference": null,
      "content_dependencies": null
    },
    {
      "cell_type": "code",
      "metadata": {
        "cell_id": "b8d9760bf54a4bb29e577abbcb685a74",
        "deepnote_cell_type": "code"
      },
      "source": "#remove rows where customerID are NA\ndataset.dropna(subset=['CustomerID'],how='all',inplace=True)",
      "block_group": "53c36e4417dd435f8ab2303aed65e0d1",
      "execution_count": 13,
      "outputs": [],
      "outputs_reference": null,
      "content_dependencies": null
    },
    {
      "cell_type": "code",
      "metadata": {
        "scrolled": true,
        "cell_id": "3b1409329f824751a1007c1499c11514",
        "deepnote_cell_type": "code"
      },
      "source": "dataset.shape",
      "block_group": "5c07c2d6b4cc446c9b6041897b104ab0",
      "execution_count": 14,
      "outputs": [],
      "outputs_reference": null,
      "content_dependencies": null
    },
    {
      "cell_type": "code",
      "metadata": {
        "cell_id": "6172adfd0e0d48bf99eb41756b7600c4",
        "deepnote_cell_type": "code"
      },
      "source": "#Summary",
      "block_group": "abdd86f30c004c0a99e0b6c3a8b4816b",
      "execution_count": null,
      "outputs": [],
      "outputs_reference": null,
      "content_dependencies": null
    },
    {
      "cell_type": "code",
      "metadata": {
        "cell_id": "6437aedcda254dc7867b3e6a514cfe4d",
        "deepnote_cell_type": "code"
      },
      "source": "#exploring the unique values of each attribute\nprint(\"Number of transactions: \", dataset['InvoiceNo'].nunique())\nprint(\"Number of products bought: \",dataset['StockCode'].nunique())\nprint(\"Number of customers:\", dataset['CustomerID'].nunique() )\nprint(\"Percentage of customers NA: \", round(dataset['CustomerID'].isnull().sum() * 100 / len(dataset),2),\"%\" )",
      "block_group": "9e0a3c2cae19458a815e4affc1acb9a5",
      "execution_count": 15,
      "outputs": [],
      "outputs_reference": null,
      "content_dependencies": null
    },
    {
      "cell_type": "markdown",
      "metadata": {
        "cell_id": "8541921ad70747dab42950377428b833",
        "deepnote_cell_type": "markdown"
      },
      "source": "# RFM Analysis",
      "block_group": "e577a033e8a646aababbca1be5ecbe1e"
    },
    {
      "cell_type": "markdown",
      "metadata": {
        "cell_id": "b01391b3cd01462a9c2499a10865bf2f",
        "deepnote_cell_type": "markdown"
      },
      "source": "- RECENCY (R): Days since last purchase \n- FREQUENCY (F): Total number of purchases \n- MONETARY VALUE (M): Total money this customer spent.",
      "block_group": "b88a6efe62e14bc082d4817909ee1931"
    },
    {
      "cell_type": "markdown",
      "metadata": {
        "cell_id": "d8f346bd0a1b446789aa4db1b357293d",
        "deepnote_cell_type": "markdown"
      },
      "source": "## Recency\nTo calculate recency, we need to choose a date point from which we evaluate **how many days ago was the customer's last purchase**.",
      "block_group": "828e4369c92145eb8a836d8ac739a90b"
    },
    {
      "cell_type": "code",
      "metadata": {
        "cell_id": "4f8818d6e5c74ae2b54611628ffdc7db",
        "deepnote_cell_type": "code"
      },
      "source": "#last date available in our dataset\ndataset['InvoiceDate'].max()",
      "block_group": "85010e540fff42b29c3ffac8b0d90d5b",
      "execution_count": 16,
      "outputs": [],
      "outputs_reference": null,
      "content_dependencies": null
    },
    {
      "cell_type": "code",
      "metadata": {
        "cell_id": "77b44ccfc9e2460a960280ec713bdd43",
        "deepnote_cell_type": "code"
      },
      "source": "now = dt.date(2011,12,9)\nprint(now)",
      "block_group": "4b26abc3adf141d0b90cfaa8b71ca966",
      "execution_count": 17,
      "outputs": [],
      "outputs_reference": null,
      "content_dependencies": null
    },
    {
      "cell_type": "code",
      "metadata": {
        "cell_id": "6f6f6a409d39464ebef35f80c605bd00",
        "deepnote_cell_type": "code"
      },
      "source": "#create a new column called date which contains the only the date of invoice\ndataset['date'] = dataset['InvoiceDate'].dt.date",
      "block_group": "20a04caca5484e6a915785591f90c17b",
      "execution_count": 18,
      "outputs": [],
      "outputs_reference": null,
      "content_dependencies": null
    },
    {
      "cell_type": "code",
      "metadata": {
        "cell_id": "6dc1cecb029e4ca28683efec43af63f7",
        "deepnote_cell_type": "code"
      },
      "source": "dataset.head()",
      "block_group": "c65562649f4543ed94c3f3b2285f5368",
      "execution_count": 19,
      "outputs": [],
      "outputs_reference": null,
      "content_dependencies": null
    },
    {
      "cell_type": "markdown",
      "metadata": {
        "cell_id": "cc5763d3922f4d27a3bd1e351843c767",
        "deepnote_cell_type": "markdown"
      },
      "source": "#### Recency dataset",
      "block_group": "c27ef5beeb624d40a229e056f528dfc9"
    },
    {
      "cell_type": "code",
      "metadata": {
        "cell_id": "4a7532e9ca664458a578494333fc323f",
        "deepnote_cell_type": "code"
      },
      "source": "#group by customers and check last date of purshace\nrecency_data = dataset.groupby(by='CustomerID', as_index=False)['date'].max()\nrecency_data.columns = ['CustomerID','LastPurshaceDate']\nrecency_data.head()",
      "block_group": "fa29a818d509416daa74eeb6e2461b76",
      "execution_count": 20,
      "outputs": [],
      "outputs_reference": null,
      "content_dependencies": null
    },
    {
      "cell_type": "code",
      "metadata": {
        "cell_id": "b1ed3cc823b94b09afc84ae207549fb1",
        "deepnote_cell_type": "code"
      },
      "source": "#calculate recency\nrecency_data['Recency'] = recency_data['LastPurshaceDate'].apply(lambda x: (now - x).days)",
      "block_group": "6d6e23e5f02e4e0c89c05ab7f2bd923e",
      "execution_count": 21,
      "outputs": [],
      "outputs_reference": null,
      "content_dependencies": null
    },
    {
      "cell_type": "code",
      "metadata": {
        "cell_id": "56cdada2ee274d46ade96b9c2efee0ff",
        "deepnote_cell_type": "code"
      },
      "source": "recency_data.head()",
      "block_group": "a204fe13cef044019958343ddb6b0c87",
      "execution_count": 22,
      "outputs": [],
      "outputs_reference": null,
      "content_dependencies": null
    },
    {
      "cell_type": "code",
      "metadata": {
        "cell_id": "c45c6966f85342e39920ea19936794de",
        "deepnote_cell_type": "code"
      },
      "source": "#drop LastPurchaseDate as we don't need it anymore\nrecency_data.drop('LastPurshaceDate',axis=1,inplace=True)",
      "block_group": "23895cc7f8ab4749a7cf89fcad60affd",
      "execution_count": 23,
      "outputs": [],
      "outputs_reference": null,
      "content_dependencies": null
    },
    {
      "cell_type": "code",
      "metadata": {
        "cell_id": "57e901e587524b4e97139c5be89f790b",
        "deepnote_cell_type": "code"
      },
      "source": "recency_data.head()",
      "block_group": "128d89111d594b84b9e2d269beb86bd5",
      "execution_count": 24,
      "outputs": [],
      "outputs_reference": null,
      "content_dependencies": null
    },
    {
      "cell_type": "markdown",
      "metadata": {
        "cell_id": "4c5afcb62dfd4ce297552ed78df01499",
        "deepnote_cell_type": "markdown"
      },
      "source": "## Frequency\nFrequency helps us to know **how many times a customer purchased from us**. To do that we need to check how many invoices are registered by the same customer.",
      "block_group": "6e9b86fcce84416ea1e2e581f9d7fbe4"
    },
    {
      "cell_type": "code",
      "metadata": {
        "cell_id": "28209054a6ba443fb00a368b50dca2b5",
        "deepnote_cell_type": "code"
      },
      "source": "data_copy=dataset\n# drop duplicates\ndata_copy.drop_duplicates(subset=['InvoiceNo', 'CustomerID'], keep=\"first\", inplace=True)\n#calculate frequency of purchases\nfrequency_data = data_copy.groupby(by=['CustomerID'], as_index=False)['InvoiceNo'].count()\nfrequency_data.columns = ['CustomerID','Frequency']\nfrequency_data.head()",
      "block_group": "0dc6b37addb140fa9123f82d44db29c2",
      "execution_count": 25,
      "outputs": [],
      "outputs_reference": null,
      "content_dependencies": null
    },
    {
      "cell_type": "markdown",
      "metadata": {
        "cell_id": "c01bfebc15244900994c2230a05bcecb",
        "deepnote_cell_type": "markdown"
      },
      "source": "## Monetary\n\nMonetary attribute answers the question: **How much money did the customer spent over the time?**",
      "block_group": "1e967cc33d814cc59c8a21f459f8efa3"
    },
    {
      "cell_type": "code",
      "metadata": {
        "cell_id": "2c5d2c98bf1e4a16b4726c53b21096bb",
        "deepnote_cell_type": "code"
      },
      "source": "#create column total cost\ndataset['TotalCost'] = dataset['Quantity'] * dataset['UnitPrice']",
      "block_group": "972a33510d9c4b3485c5a7965c06e2c8",
      "execution_count": 26,
      "outputs": [],
      "outputs_reference": null,
      "content_dependencies": null
    },
    {
      "cell_type": "code",
      "metadata": {
        "cell_id": "767609719d9047ffbf473f5079dbd463",
        "deepnote_cell_type": "code"
      },
      "source": "monetary_data = dataset.groupby(by='CustomerID',as_index=False).agg({'TotalCost': 'sum'})\nmonetary_data.columns = ['CustomerID','Monetary']\nmonetary_data.head()",
      "block_group": "77fec077d9674961bf9c9b653847e88f",
      "execution_count": 27,
      "outputs": [],
      "outputs_reference": null,
      "content_dependencies": null
    },
    {
      "cell_type": "markdown",
      "metadata": {
        "cell_id": "2498632cc9bd411f8e1dcb48bdb1b4b6",
        "deepnote_cell_type": "markdown"
      },
      "source": "## Create RFM Table\nMerge recency, frequency, monetary data",
      "block_group": "a0911772d310429e80e225beaebef8d5"
    },
    {
      "cell_type": "code",
      "metadata": {
        "cell_id": "e32f1871a5d741eeb99ace629a1ffb85",
        "deepnote_cell_type": "code"
      },
      "source": "rfm_data = recency_data.merge(frequency_data.merge(monetary_data,on='CustomerID'),on='CustomerID')\nrfm_data.head()",
      "block_group": "2e1e10c07c20401489bf0a5962cd9f44",
      "execution_count": 28,
      "outputs": [],
      "outputs_reference": null,
      "content_dependencies": null
    },
    {
      "cell_type": "code",
      "metadata": {
        "cell_id": "b5f50a854cea49358c8b7861bc46b153",
        "deepnote_cell_type": "code"
      },
      "source": "#use CustomerID as index\nrfm_data.set_index('CustomerID',inplace=True)\nrfm_data.head()",
      "block_group": "731b038f56554c05bc8b693d3beda3fc",
      "execution_count": 29,
      "outputs": [],
      "outputs_reference": null,
      "content_dependencies": null
    },
    {
      "cell_type": "markdown",
      "metadata": {
        "cell_id": "ef0226f5bb39424380ebaa71a07db446",
        "deepnote_cell_type": "markdown"
      },
      "source": "## Applying 80-20 rule\nPareto’s rule says **80% of the results come from 20% of the causes**.\n\nSimilarly, **20% customers contribute to 80% of your total revenue**. Let's verify that because that will help us know which customers to focus on when marketing new products.",
      "block_group": "bb486b1e0abf4ddf97589d1ddb08d3b9"
    },
    {
      "cell_type": "code",
      "metadata": {
        "cell_id": "7026171ba6304d9c91f942d68894e2c7",
        "deepnote_cell_type": "code"
      },
      "source": "#get the 80% of the revenue\npareto_cutoff = rfm_data['Monetary'].sum() * 0.8\nprint(\"The 80% of total revenue is: \",round(pareto_cutoff,2))",
      "block_group": "4cc97ea92e6a42c1a3b53e74e20d0424",
      "execution_count": 30,
      "outputs": [],
      "outputs_reference": null,
      "content_dependencies": null
    },
    {
      "cell_type": "code",
      "metadata": {
        "cell_id": "f164fb931dcb4a269f84fa58f84f4ea4",
        "deepnote_cell_type": "code"
      },
      "source": "customers_rank = rfm_data\n# Create a new column that is the rank of the value of coverage in ascending order\ncustomers_rank['Rank'] = customers_rank['Monetary'].rank(ascending=0)\n#customers_rank.drop('RevenueRank',axis=1,inplace=True)\ncustomers_rank.head()",
      "block_group": "7188129204cb40149155c52f437f67c0",
      "execution_count": 31,
      "outputs": [],
      "outputs_reference": null,
      "content_dependencies": null
    },
    {
      "cell_type": "markdown",
      "metadata": {
        "cell_id": "5d58cdf360c048db9d4ce605072431c2",
        "deepnote_cell_type": "markdown"
      },
      "source": "### Top customers",
      "block_group": "50d61276a07e48db84b37466656e2e64"
    },
    {
      "cell_type": "code",
      "metadata": {
        "cell_id": "ecbff5deadbf407eaf6d808a2c212f3c",
        "deepnote_cell_type": "code"
      },
      "source": "customers_rank.sort_values('Rank',ascending=True)",
      "block_group": "d9d6bdc7287041088b100362e1a4ead7",
      "execution_count": 32,
      "outputs": [],
      "outputs_reference": null,
      "content_dependencies": null
    },
    {
      "cell_type": "code",
      "metadata": {
        "cell_id": "7e96b93ea7074836af5b0f198a1162f8",
        "deepnote_cell_type": "code"
      },
      "source": "#get top 20% of the customers\ntop_20_cutoff = 4339 *0.2\ntop_20_cutoff",
      "block_group": "00b7191decb743f6870ffae764850716",
      "execution_count": 33,
      "outputs": [],
      "outputs_reference": null,
      "content_dependencies": null
    },
    {
      "cell_type": "code",
      "metadata": {
        "cell_id": "e49702de8d9f470e9ee320a373b4502e",
        "deepnote_cell_type": "code"
      },
      "source": "#sum the monetary values over the customer with rank <=867\nrevenueByTop20 = customers_rank[customers_rank['Rank'] <= 867]['Monetary'].sum()\nrevenueByTop20",
      "block_group": "5217991ff3c94efa85c2088d5d2eff8e",
      "execution_count": 34,
      "outputs": [],
      "outputs_reference": null,
      "content_dependencies": null
    },
    {
      "cell_type": "markdown",
      "metadata": {
        "cell_id": "95e4081bb1604c678a6a7ecc7c9caa01",
        "deepnote_cell_type": "markdown"
      },
      "source": "The top 20% contribute to more than 80% of the revenue.\n\n## Customer segmentation based on RFM score\nI will give a score of 1 to 4 for the data in RFM model.",
      "block_group": "caba871f938e476490ed8c4509b8a574"
    },
    {
      "cell_type": "markdown",
      "metadata": {
        "cell_id": "609543d69bcc49f197d6f9fcc669d87d",
        "deepnote_cell_type": "markdown"
      },
      "source": "4 -> best/highest value\n\n1 -> lowest/worst value",
      "block_group": "6fd303af4e7d4d96b5e04aac8d4a0378"
    },
    {
      "cell_type": "code",
      "metadata": {
        "cell_id": "2b7e716c72954af7993c21aed984828d",
        "deepnote_cell_type": "code"
      },
      "source": "quantiles = rfm_data.quantile(q=[0.25,0.5,0.75])\nquantiles",
      "block_group": "ea07f66fe73041cba4629977feb7cc89",
      "execution_count": 35,
      "outputs": [],
      "outputs_reference": null,
      "content_dependencies": null
    },
    {
      "cell_type": "code",
      "metadata": {
        "cell_id": "7f76b7f0f68742b88adf50d685a4cf0b",
        "deepnote_cell_type": "code"
      },
      "source": "quantiles.to_dict()",
      "block_group": "a3143a5a863540e59500b571c495d571",
      "execution_count": 36,
      "outputs": [],
      "outputs_reference": null,
      "content_dependencies": null
    },
    {
      "cell_type": "markdown",
      "metadata": {
        "cell_id": "7d15809170c94dd099dbf5289eece8a5",
        "deepnote_cell_type": "markdown"
      },
      "source": "**Note:** it is clear that:-\n\nHigher Recency is bad.\n\nHigher Frequency, Monetary is profitting.\nand vice-versa.",
      "block_group": "cf62e49a3ab241cc8ae45e8f21871445"
    },
    {
      "cell_type": "code",
      "metadata": {
        "cell_id": "eb980cf8533e479fac763eb3488b5c21",
        "deepnote_cell_type": "code"
      },
      "source": "# Arguments (x = value, p = recency, monetary_value, frequency, d = quartiles dict)\ndef RScore(x,p,d):\n    if x <= d[p][0.25]:\n        return 4\n    elif x <= d[p][0.50]:\n        return 3\n    elif x <= d[p][0.75]: \n        return 2\n    else:\n        return 1\n# Arguments (x = value, p = recency, monetary_value, frequency, k = quartiles dict)\ndef FMScore(x,p,d):\n    if x <= d[p][0.25]:\n        return 1\n    elif x <= d[p][0.50]:\n        return 2\n    elif x <= d[p][0.75]: \n        return 3\n    else:\n        return 4",
      "block_group": "e8f41eab19a34675a33bf5e69e882463",
      "execution_count": 37,
      "outputs": [],
      "outputs_reference": null,
      "content_dependencies": null
    },
    {
      "cell_type": "code",
      "metadata": {
        "cell_id": "d0c4cfa6620a4e619ca0e0524a454698",
        "deepnote_cell_type": "code"
      },
      "source": "#create rfm segmentation table\nrfm_segmentation = rfm_data\nrfm_segmentation['R_Quartile'] = rfm_segmentation['Recency'].apply(RScore, args=('Recency',quantiles,))\nrfm_segmentation['F_Quartile'] = rfm_segmentation['Frequency'].apply(FMScore, args=('Frequency',quantiles,))\nrfm_segmentation['M_Quartile'] = rfm_segmentation['Monetary'].apply(FMScore, args=('Monetary',quantiles,))",
      "block_group": "ce62951fc4794a6381ff9935ec4d7d20",
      "execution_count": 38,
      "outputs": [],
      "outputs_reference": null,
      "content_dependencies": null
    },
    {
      "cell_type": "code",
      "metadata": {
        "cell_id": "be36b70d37a742ed9f49033c8be36a24",
        "deepnote_cell_type": "code"
      },
      "source": "rfm_segmentation.head()",
      "block_group": "e3cf4ad3fe724ef28df7f0f0e075762a",
      "execution_count": 39,
      "outputs": [],
      "outputs_reference": null,
      "content_dependencies": null
    },
    {
      "cell_type": "code",
      "metadata": {
        "cell_id": "9d6edbd76a2c4cc4bb97de35dee4d16a",
        "deepnote_cell_type": "code"
      },
      "source": "#Combine the RFM scores\nrfm_segmentation['RFMScore'] = rfm_segmentation.R_Quartile.map(str) + rfm_segmentation.F_Quartile.map(str) + rfm_segmentation.M_Quartile.map(str)\nrfm_segmentation.head()",
      "block_group": "ce592fc9d2c246c7a8e4280d6a66f48e",
      "execution_count": 40,
      "outputs": [],
      "outputs_reference": null,
      "content_dependencies": null
    },
    {
      "cell_type": "markdown",
      "metadata": {
        "cell_id": "0d1c6c4eaf9c4a6ab1ccabcb95a755a5",
        "deepnote_cell_type": "markdown"
      },
      "source": "Best Recency score = 4: most recently purchase. Best Frequency score = 4: most quantity purchase. Best Monetary score = 4: spent the most.",
      "block_group": "8e2fc9ef396644eb91dd7c240ca8c671"
    },
    {
      "cell_type": "code",
      "metadata": {
        "cell_id": "3f0469500cd24512b8e90aac1db22237",
        "deepnote_cell_type": "code"
      },
      "source": "#top 10 customers\nrfm_segmentation[rfm_segmentation['RFMScore']=='444'].sort_values('Monetary', ascending=False).head(10)",
      "block_group": "17f85c035c464a3ca17620a672d0d731",
      "execution_count": 41,
      "outputs": [],
      "outputs_reference": null,
      "content_dependencies": null
    },
    {
      "cell_type": "code",
      "metadata": {
        "cell_id": "4605266d22364c1fa8de182c20f6e048",
        "deepnote_cell_type": "code"
      },
      "source": "#Classification based on these scores\nprint(\"Best Customers: \",len(rfm_segmentation[rfm_segmentation['RFMScore']=='444']))\nprint('Loyal Customers: ',len(rfm_segmentation[rfm_segmentation['F_Quartile']==4]))\nprint(\"Big Spenders: \",len(rfm_segmentation[rfm_segmentation['M_Quartile']==4]))\nprint('Almost Lost: ', len(rfm_segmentation[rfm_segmentation['RFMScore']=='244']))\nprint('Lost Customers: ',len(rfm_segmentation[rfm_segmentation['RFMScore']=='144']))\nprint('Lost Cheap Customers: ',len(rfm_segmentation[rfm_segmentation['RFMScore']=='111']))",
      "block_group": "63ae2d5d9d344db2a0bc096c77891582",
      "execution_count": 42,
      "outputs": [],
      "outputs_reference": null,
      "content_dependencies": null
    },
    {
      "cell_type": "markdown",
      "metadata": {
        "cell_id": "df251981cac948fbb56f48d05d3f88be",
        "deepnote_cell_type": "markdown"
      },
      "source": "Now that we knew our customers segments we can choose how to target or deal with each segment.\n\nFor example:\n\n**Best Customers -**: Reward them. They can be early adopters to new products. Suggest them \"Refer a friend\".\n\n**At Risk**: Send them personalized emails to encourage them to shop.\n\nreference: https://searchsalesforce.techtarget.com/definition/customer-segmentation\n\n## Final data for prediction\nAdd a column called **CustomerClass** with values ('Best', 'Loyal', 'BigSpender', 'AlmostLost', 'Lost', 'LostCheap')\n",
      "block_group": "d8bd590024f34880b1857fd1886ee0b3"
    },
    {
      "cell_type": "code",
      "metadata": {
        "cell_id": "736722fe5b7f4d6a9e8eba9502399bc1",
        "deepnote_cell_type": "code"
      },
      "source": "def classifier(CustomerID , RFMScore, F_Quartile, M_Quartile, data):\n    if(data[RFMScore][CustomerID]=='444'):\n        return 'Best'\n    elif(data[F_Quartile][CustomerID]==4):\n        return 'Loyal'\n    elif(data[M_Quartile][CustomerID]==4):\n        return 'BigSpenders'\n    elif(data[RFMScore][CustomerID]=='244'):\n        return 'AlmostLost'\n    elif(data[RFMScore][CustomerID]=='144'):\n        return 'Lost'\n    elif(data[RFMScore][CustomerID]=='111'):\n        return 'LostCheap'\n    else:\n        return 'Others'",
      "block_group": "c2879184e6d84dec87799e6940b510a4",
      "execution_count": 43,
      "outputs": [],
      "outputs_reference": null,
      "content_dependencies": null
    },
    {
      "cell_type": "code",
      "metadata": {
        "cell_id": "9e7a423bcce34271ad4c36b5e13d55f3",
        "deepnote_cell_type": "code"
      },
      "source": "rfm_data.head()",
      "block_group": "560c8d97e8bc4053ab1e5dc7e1296fdd",
      "execution_count": 44,
      "outputs": [],
      "outputs_reference": null,
      "content_dependencies": null
    },
    {
      "cell_type": "code",
      "metadata": {
        "cell_id": "a9d4d571c50543d7aa8156fb75e90226",
        "deepnote_cell_type": "code"
      },
      "source": "copy=rfm_data",
      "block_group": "8f6061c526274c70b6bd125a182ee9af",
      "execution_count": 45,
      "outputs": [],
      "outputs_reference": null,
      "content_dependencies": null
    },
    {
      "cell_type": "code",
      "metadata": {
        "cell_id": "e99ad9a908924963af2b90c24a082143",
        "deepnote_cell_type": "code"
      },
      "source": "copy['CustomerID']=copy.index",
      "block_group": "8e93702881604ad09129f3eca7f8fe43",
      "execution_count": 46,
      "outputs": [],
      "outputs_reference": null,
      "content_dependencies": null
    },
    {
      "cell_type": "code",
      "metadata": {
        "cell_id": "de8f171519c941b6872975f762585c75",
        "deepnote_cell_type": "code"
      },
      "source": "copy['CustomerClass']=copy['CustomerID'].apply(classifier, args=('RFMScore','F_Quartile', 'M_Quartile', rfm_data))",
      "block_group": "832a80df7ad84fb29fb7d8f6758eff7b",
      "execution_count": 47,
      "outputs": [],
      "outputs_reference": null,
      "content_dependencies": null
    },
    {
      "cell_type": "code",
      "metadata": {
        "cell_id": "2527fad6353247ba8bc57749538786a9",
        "deepnote_cell_type": "code"
      },
      "source": "copy.head(10)",
      "block_group": "e7a8f70542764c719a455c2e430b7797",
      "execution_count": 48,
      "outputs": [],
      "outputs_reference": null,
      "content_dependencies": null
    },
    {
      "cell_type": "code",
      "metadata": {
        "cell_id": "9fdb12358e2d4f3bbe967fd57c740567",
        "deepnote_cell_type": "code"
      },
      "source": "copy.drop('CustomerID',axis=1,inplace=True)",
      "block_group": "e67888ea6cbe49c39084fe979b01bc11",
      "execution_count": 49,
      "outputs": [],
      "outputs_reference": null,
      "content_dependencies": null
    },
    {
      "cell_type": "code",
      "metadata": {
        "cell_id": "9c96326b9e4643539ec9852f746b90fa",
        "deepnote_cell_type": "code"
      },
      "source": "copy.head()",
      "block_group": "f4be8514d9d242ba8d8ec0a71ab9eafd",
      "execution_count": 50,
      "outputs": [],
      "outputs_reference": null,
      "content_dependencies": null
    },
    {
      "cell_type": "code",
      "metadata": {
        "cell_id": "7a10cf53917e490897a1933cb65fd3d0",
        "deepnote_cell_type": "code"
      },
      "source": "import copy",
      "block_group": "2f5355900cfc4596b2fd510c4faeb645",
      "execution_count": 51,
      "outputs": [],
      "outputs_reference": null,
      "content_dependencies": null
    },
    {
      "cell_type": "code",
      "metadata": {
        "cell_id": "c40bb72cfbbc4238b69249a314a6c529",
        "deepnote_cell_type": "code"
      },
      "source": "final1=copy.deepcopy(rfm_data)",
      "block_group": "cc9247acff0c4b7d8f6d0b2eaf477637",
      "execution_count": 52,
      "outputs": [],
      "outputs_reference": null,
      "content_dependencies": null
    },
    {
      "cell_type": "code",
      "metadata": {
        "cell_id": "5cb4080d0ee549ea92653661fe540a2e",
        "deepnote_cell_type": "code"
      },
      "source": "final2=copy.deepcopy(final1)",
      "block_group": "8dd29de07c0d4faaa7f5783f671eed0e",
      "execution_count": 53,
      "outputs": [],
      "outputs_reference": null,
      "content_dependencies": null
    },
    {
      "cell_type": "code",
      "metadata": {
        "cell_id": "d084244ae2bd45879e9750114f997e2a",
        "deepnote_cell_type": "code"
      },
      "source": "final2.drop('R_Quartile',axis=1,inplace=True)\nfinal2.drop('F_Quartile',axis=1,inplace=True)\nfinal2.drop('M_Quartile',axis=1,inplace=True)\nfinal2.drop('RFMScore',axis=1,inplace=True)",
      "block_group": "52ba1bf930544a4c8eb68c8e43b61e67",
      "execution_count": 54,
      "outputs": [],
      "outputs_reference": null,
      "content_dependencies": null
    },
    {
      "cell_type": "code",
      "metadata": {
        "cell_id": "1b3fa43781ad4b61994800333ecc50b5",
        "deepnote_cell_type": "code"
      },
      "source": "final1.head(3)",
      "block_group": "924151f9ba60495280b02e69e559cb18",
      "execution_count": 55,
      "outputs": [],
      "outputs_reference": null,
      "content_dependencies": null
    },
    {
      "cell_type": "code",
      "metadata": {
        "cell_id": "065509aba0864a358451b4d9675aafab",
        "deepnote_cell_type": "code"
      },
      "source": "final2.drop('Rank',axis=1,inplace=True)",
      "block_group": "96b3c3b50c5745c8b60484d64fd21525",
      "execution_count": 56,
      "outputs": [],
      "outputs_reference": null,
      "content_dependencies": null
    },
    {
      "cell_type": "code",
      "metadata": {
        "cell_id": "08f0e1be78e544caaea49ca4f89f313f",
        "deepnote_cell_type": "code"
      },
      "source": "final2.head(3)",
      "block_group": "17d66f65527046768f0b94b472e75743",
      "execution_count": 57,
      "outputs": [],
      "outputs_reference": null,
      "content_dependencies": null
    },
    {
      "cell_type": "markdown",
      "metadata": {
        "cell_id": "1272b63816174e22b87d766ffe0ef19a",
        "deepnote_cell_type": "markdown"
      },
      "source": "## Final Datasets:\nfinal1, final2",
      "block_group": "405b89bd2fd0452da2710d84e6c82f7d"
    },
    {
      "cell_type": "markdown",
      "metadata": {
        "cell_id": "b95ce44dd3a845ea9b0ab7f53d9127bb",
        "deepnote_cell_type": "markdown"
      },
      "source": "# Using SVM",
      "block_group": "20df75711a75443a8424f54458e24540"
    },
    {
      "cell_type": "code",
      "metadata": {
        "cell_id": "b298c7e9db5943c68395d08d23099f08",
        "deepnote_cell_type": "code"
      },
      "source": "final2['CustomerClass'].head()",
      "block_group": "5727c72463c74a279e8d55e19d10c1e8",
      "execution_count": 58,
      "outputs": [],
      "outputs_reference": null,
      "content_dependencies": null
    },
    {
      "cell_type": "code",
      "metadata": {
        "cell_id": "4923a056da45438f849aa2e44d9fd41b",
        "deepnote_cell_type": "code"
      },
      "source": "final2.drop('CustomerClass',axis=1,inplace=True)",
      "block_group": "abd50b8aa9fd413faa4d2d0902dd2af5",
      "execution_count": 59,
      "outputs": [],
      "outputs_reference": null,
      "content_dependencies": null
    },
    {
      "cell_type": "code",
      "metadata": {
        "cell_id": "679a4a36deeb40a0b3039a8c8a9855ee",
        "deepnote_cell_type": "code"
      },
      "source": "final2.corr()",
      "block_group": "3e0117cbe58a4fed997e128a0684e526",
      "execution_count": 60,
      "outputs": [],
      "outputs_reference": null,
      "content_dependencies": null
    },
    {
      "cell_type": "code",
      "metadata": {
        "cell_id": "a6a3c8aa1c6e4f08af0d83e02dc5eb02",
        "deepnote_cell_type": "code"
      },
      "source": "final2['Class']=final1['CustomerClass']\nfinal2.head()",
      "block_group": "5ba0003b72e1438c8cc8e8e6a1320c63",
      "execution_count": 61,
      "outputs": [],
      "outputs_reference": null,
      "content_dependencies": null
    },
    {
      "cell_type": "code",
      "metadata": {
        "cell_id": "7b97f2b9cb3a44b68b79d468b9113319",
        "deepnote_cell_type": "code"
      },
      "source": "final2.corr()",
      "block_group": "74f3a24f2cfd4a398a379c546f946b2a",
      "execution_count": 62,
      "outputs": [],
      "outputs_reference": null,
      "content_dependencies": null
    },
    {
      "cell_type": "code",
      "metadata": {
        "cell_id": "3937e133cd0f4d00b17405620346e0a9",
        "deepnote_cell_type": "code"
      },
      "source": "sns.heatmap(final2.corr())",
      "block_group": "b6de4f3b7a4341ee9c3da1d6bab39008",
      "execution_count": 63,
      "outputs": [],
      "outputs_reference": null,
      "content_dependencies": null
    },
    {
      "cell_type": "code",
      "metadata": {
        "cell_id": "c1d026e7ab974710ab32ec8dfbf59851",
        "deepnote_cell_type": "code"
      },
      "source": "sns.set_style(\"whitegrid\")\nsns.FacetGrid(final2, hue=\"Class\", height=4).map(plt.scatter, \"Recency\", \"Monetary\").add_legend()\nplt.show()",
      "block_group": "026945152d3a434bbb3a37544b48ac20",
      "execution_count": 64,
      "outputs": [],
      "outputs_reference": null,
      "content_dependencies": null
    },
    {
      "cell_type": "code",
      "metadata": {
        "cell_id": "c6e40c4b37ed44f9aac33e1dfbd3e5b9",
        "deepnote_cell_type": "code"
      },
      "source": "scatter_matrix(final2, alpha = 0.3, figsize = (21,10), diagonal = 'kde');",
      "block_group": "9684f14fffdf47778066040568c11fa7",
      "execution_count": 65,
      "outputs": [],
      "outputs_reference": null,
      "content_dependencies": null
    },
    {
      "cell_type": "code",
      "metadata": {
        "cell_id": "19aeb2cd87554a1d90eb7abd4b7dcee9",
        "deepnote_cell_type": "code"
      },
      "source": "final2_r_log = np.log(final2['Recency']+0.1)\nfinal2_f_log = np.log(final2['Frequency'])\nfinal2_m_log = np.log(final2['Monetary']+0.1)\nfinal2_c_log = final2['Class']",
      "block_group": "e2b459b085b3494e8b56b4ecdeec7f32",
      "execution_count": 66,
      "outputs": [],
      "outputs_reference": null,
      "content_dependencies": null
    },
    {
      "cell_type": "code",
      "metadata": {
        "cell_id": "fe5791e8e40f49c885c783e9fe90c24a",
        "deepnote_cell_type": "code"
      },
      "source": "log_data=pd.DataFrame({'Monetary': final2_m_log,'Recency': final2_r_log,'Frequency': final2_f_log})",
      "block_group": "61c1962d020640038a46862d2f89135c",
      "execution_count": 67,
      "outputs": [],
      "outputs_reference": null,
      "content_dependencies": null
    },
    {
      "cell_type": "code",
      "metadata": {
        "cell_id": "096c99e722a546ab9ae19d21fdddbc85",
        "deepnote_cell_type": "code"
      },
      "source": "log_data['Class']=final2['Class']",
      "block_group": "9d999eb71ec240f8853bd251fa86a008",
      "execution_count": 68,
      "outputs": [],
      "outputs_reference": null,
      "content_dependencies": null
    },
    {
      "cell_type": "code",
      "metadata": {
        "scrolled": true,
        "cell_id": "7e371aa038214461a4ffd6d4296584f4",
        "deepnote_cell_type": "code"
      },
      "source": "log_data.head()",
      "block_group": "14ec1be38ad24b09aac5b73f5cc54567",
      "execution_count": 69,
      "outputs": [],
      "outputs_reference": null,
      "content_dependencies": null
    },
    {
      "cell_type": "code",
      "metadata": {
        "cell_id": "90c2bd80ac5748e586d99683297b36e1",
        "deepnote_cell_type": "code"
      },
      "source": "scatter_matrix(log_data, alpha = 0.3, figsize = (21,10), diagonal = 'kde');",
      "block_group": "a85ec50013ee430ba86890afb506cd55",
      "execution_count": 70,
      "outputs": [],
      "outputs_reference": null,
      "content_dependencies": null
    },
    {
      "cell_type": "code",
      "metadata": {
        "cell_id": "ec556ae454054cef840d2d151504808d",
        "deepnote_cell_type": "code"
      },
      "source": "array=log_data.values",
      "block_group": "eab1ad09faf44ad3b8bbcf0a27cbc2ce",
      "execution_count": 71,
      "outputs": [],
      "outputs_reference": null,
      "content_dependencies": null
    },
    {
      "cell_type": "code",
      "metadata": {
        "cell_id": "ce2f4b5b0b624fd291615033aa77aa3c",
        "deepnote_cell_type": "code"
      },
      "source": "X = array[:,0:2]\nY = array[:,3]\nvalidation_size = 0.20\nseed = 7\nX_train, X_validation, Y_train, Y_validation = model_selection.train_test_split(X, Y, test_size=validation_size, random_state=seed)",
      "block_group": "6eb72336db474d6799dbefb970188d6d",
      "execution_count": 72,
      "outputs": [],
      "outputs_reference": null,
      "content_dependencies": null
    },
    {
      "cell_type": "markdown",
      "metadata": {
        "cell_id": "708392537a264bd691a50f9967aea8be",
        "deepnote_cell_type": "markdown"
      },
      "source": "## Running SVM for different values of C",
      "block_group": "32e3e1908d084ca0a631acafe1f47665"
    },
    {
      "cell_type": "code",
      "metadata": {
        "cell_id": "92df1981b0e14f4fb253435ee315c435",
        "deepnote_cell_type": "code"
      },
      "source": "c=0.5;\n#while(c<=10):\nsvm=SVC(kernel='rbf', C = c)\nsvm.fit(X_train, Y_train)\npredictions = svm.predict(X_validation)\ncorrect=0.0\nfor i in range(len(predictions)):\n    if(predictions[i]==Y_validation[i]):\n        correct+=1\naccuracy=correct/len(predictions)\nmsg=\"C= %.1f -> accuracy = %f\" % (c,accuracy)\nprint(msg)\n#c+=0.1",
      "block_group": "1f7ad24aa0594f878897c731436e6486",
      "execution_count": 75,
      "outputs": [],
      "outputs_reference": null,
      "content_dependencies": null
    },
    {
      "cell_type": "code",
      "metadata": {
        "cell_id": "598b5374124a4d66ada913ed654e4c7a",
        "deepnote_cell_type": "code"
      },
      "source": "svm=SVC(kernel='linear', C = c)\nsvm.fit(X_train, Y_train)\npredictions = svm.predict(X_validation)\ncorrect=0.0\nfor i in range(len(predictions)):\n    if(predictions[i]==Y_validation[i]):\n        correct+=1\naccuracy=correct/len(predictions)\nmsg=\"C= %.1f -> accuracy = %f\" % (c,accuracy)\nprint(msg)",
      "block_group": "2839026acc7c40d2bf830d4f415dc60f",
      "execution_count": 74,
      "outputs": [],
      "outputs_reference": null,
      "content_dependencies": null
    },
    {
      "cell_type": "code",
      "metadata": {
        "cell_id": "e0e5f929c73f4efea170158ca18881b8",
        "deepnote_cell_type": "code"
      },
      "source": "",
      "block_group": "cbcd477e5fbd411a9f73fa9aa490b5f2",
      "execution_count": 238,
      "outputs": [],
      "outputs_reference": null,
      "content_dependencies": null
    },
    {
      "cell_type": "code",
      "metadata": {
        "cell_id": "6b6cae4ac3b3423d81bece0a26998076",
        "deepnote_cell_type": "code"
      },
      "source": "",
      "block_group": "1a7de6a9d4924ab9b6b2891145fb3191",
      "execution_count": null,
      "outputs": [],
      "outputs_reference": null,
      "content_dependencies": null
    },
    {
      "cell_type": "markdown",
      "source": "<a style='text-decoration:none;line-height:16px;display:flex;color:#5B5B62;padding:10px;justify-content:end;' href='https://deepnote.com?utm_source=created-in-deepnote-cell&projectId=5165f1fe-972f-4b2c-bd78-058059c31755' target=\"_blank\">\n<img alt='Created in deepnote.com' style='display:inline;max-height:16px;margin:0px;margin-right:7.5px;' src='data:image/svg+xml;base64,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' > </img>\nCreated in <span style='font-weight:600;margin-left:4px;'>Deepnote</span></a>",
      "metadata": {
        "created_in_deepnote_cell": true,
        "deepnote_cell_type": "markdown"
      }
    }
  ],
  "nbformat": 4,
  "nbformat_minor": 0,
  "metadata": {
    "deepnote_notebook_id": "7cb06053627e4586b55643aa723c1e4c"
  }
}